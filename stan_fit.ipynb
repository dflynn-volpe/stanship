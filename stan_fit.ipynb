{
 "cells": [
  {
   "cell_type": "markdown",
   "metadata": {},
   "source": [
    "## Hierarchical Bayesian propulsion power models for marine vessels\n",
    "\n",
    "This simple demo accompanies the paper with the above title, available in `http:arxiv-link-here`. We fit the following model to randomly generated synthetic data:\n",
    "\n",
    "$P_{i} = a_iV_i^3 + b_i\\cos(\\alpha_i)U_{R,i}^2V_i + \\varepsilon_i$,\n",
    "\n",
    "where $a_i$ and $b_i$ are ship-specific resistance coefficients and $\\varepsilon_i \\sim N(0, \\sigma^2_{obs,i})$. Moreover, we add a \"hyper-model\" that predicts the ship-specific coefficients using the vessel's mass (gross tonnage) $w_i$:\n",
    "\n",
    "$a_i = \\lambda_1 + \\lambda_2w_i  + \\eta_a$\n",
    "\n",
    "$b_i = \\lambda_3 + \\lambda_4w_i  + \\eta_b$,\n",
    "\n",
    "where $\\lambda_i$ are unknown hyperparameters and $\\eta_a \\sim N(0, \\sigma^2_a)$ and $\\eta_b \\sim N(0, \\sigma^2_b)$. The goal is to estimate the resistance coefficients for each ship, the hyperparameters, and the error variances, using measured values for $P_i$ (propulsion power), $V_i$ (vessel speed), $\\alpha_i$ (relative wind angle) and $U_{R,i}$ (relative wind speed). The estimation is carried out with `Stan` via the `pystan` interface."
   ]
  },
  {
   "cell_type": "code",
   "execution_count": null,
   "metadata": {},
   "outputs": [],
   "source": [
    "import numpy as np\n",
    "import pystan\n",
    "import matplotlib.pyplot as plt\n",
    "from utils import generate_ship_data"
   ]
  },
  {
   "cell_type": "markdown",
   "metadata": {},
   "source": [
    "### Generate synthetic data\n",
    "\n",
    "First, set some \"true\" values for the parameters for generating the synthetic data. The parameter values are chosen from the estimation with real ship data reported in the paper."
   ]
  },
  {
   "cell_type": "code",
   "execution_count": null,
   "metadata": {},
   "outputs": [],
   "source": [
    "true_pars = {\n",
    "    'alp0': 18.6, 'alp1': 9.0, 'sig_alp': 2.4,\n",
    "    'beta0': 0.45, 'beta1': 1.05, 'sig_beta': 0.4,\n",
    "    'sig_obs': 2.0\n",
    "}"
   ]
  },
  {
   "cell_type": "markdown",
   "metadata": {},
   "source": [
    "Choose the number of ships, and randomly generate the gross tonnages for the ships. Also randomly choose the number of data points per ship that we are going to generate. Then, generate the fake data."
   ]
  },
  {
   "cell_type": "code",
   "execution_count": null,
   "metadata": {},
   "outputs": [],
   "source": [
    "N_ships = 60\n",
    "GT = np.random.uniform(0.8, 2.3, N_ships)\n",
    "N_data = np.random.randint(20, 120, N_ships)"
   ]
  },
  {
   "cell_type": "code",
   "execution_count": null,
   "metadata": {},
   "outputs": [],
   "source": [
    "power_data, speed_data, wind_data = generate_ship_data(GT, N_data, true_pars)"
   ]
  },
  {
   "cell_type": "markdown",
   "metadata": {},
   "source": [
    "## Stan fitting\n",
    "\n",
    "First, turn the generated data into a suitable format required by `pystan`. Note that the data for all the ships are concatenated into single vectors. In Stan, there is currently no support for such \"ragged data structures\", where the number of data points between units (ships) changes."
   ]
  },
  {
   "cell_type": "code",
   "execution_count": null,
   "metadata": {},
   "outputs": [],
   "source": [
    "vessel_data = {'N': sum(N_data),\n",
    "               'K': N_ships,\n",
    "               's': list(N_data),\n",
    "               'mass': list(GT),\n",
    "               'Pobs': list(np.concatenate(power_data)),\n",
    "               'V3': list(np.concatenate(speed_data)),\n",
    "               'U2V': list(np.concatenate(wind_data))}"
   ]
  },
  {
   "cell_type": "markdown",
   "metadata": {},
   "source": [
    "Define the Stan model. Note how we need to use the `segment` -function to refer to the ship-specific data."
   ]
  },
  {
   "cell_type": "code",
   "execution_count": null,
   "metadata": {},
   "outputs": [],
   "source": [
    "vessel_code = \"\"\"\n",
    "data {\n",
    "    int N;\n",
    "    int K;\n",
    "    vector[N] Pobs;\n",
    "    vector[N] V3;\n",
    "    vector[N] U2V;\n",
    "    int s[K];\n",
    "    vector[K] mass;\n",
    "}\n",
    "parameters {\n",
    "    vector[K] a;\n",
    "    vector[K] b;\n",
    "    vector<lower=0>[K] sigma;\n",
    "    real alp0;\n",
    "    real alp1;\n",
    "    real beta0;\n",
    "    real beta1;\n",
    "    real<lower=0> sig_alp;\n",
    "    real<lower=0> sig_beta;\n",
    "    \n",
    "}\n",
    "model {\n",
    "    int pos;\n",
    "    pos = 1;\n",
    "    for (k in 1:K) {\n",
    "        segment(Pobs, pos, s[k]) ~ normal(a[k]*segment(V3, pos, s[k]) + b[k]*segment(U2V, pos, s[k]), sigma[k]);\n",
    "        pos = pos + s[k];\n",
    "    }\n",
    "    \n",
    "    a ~ normal(alp0+alp1*mass, sig_alp);\n",
    "    b ~ normal(beta0+beta1*mass, sig_beta);\n",
    "}\n",
    "\"\"\""
   ]
  },
  {
   "cell_type": "code",
   "execution_count": null,
   "metadata": {},
   "outputs": [],
   "source": [
    "sm = pystan.StanModel(model_code=vessel_code)"
   ]
  },
  {
   "cell_type": "code",
   "execution_count": null,
   "metadata": {},
   "outputs": [],
   "source": [
    "fit = sm.sampling(data=vessel_data, iter=1000, chains=4)\n",
    "print(fit)"
   ]
  },
  {
   "cell_type": "markdown",
   "metadata": {},
   "source": [
    "## Plot some results\n",
    "\n",
    "The first generated figure corresponds to `Fig. 1` in the paper."
   ]
  },
  {
   "cell_type": "code",
   "execution_count": null,
   "metadata": {},
   "outputs": [],
   "source": [
    "pars = fit.extract(permuted=True)"
   ]
  },
  {
   "cell_type": "code",
   "execution_count": null,
   "metadata": {},
   "outputs": [],
   "source": [
    "xx = np.linspace(min(GT),max(GT))\n",
    "yy_all = (pars['alp1'][:,np.newaxis].dot(xx[np.newaxis,:]) + pars['alp0'][:,np.newaxis])\n",
    "yy_perc = np.percentile(yy_all,[2.5,25,50,75,97.5],axis=0)\n",
    "\n",
    "alims = np.percentile(pars['a'],[2.5,50,97.5],axis=0)\n",
    "aerr = np.abs((alims-alims[1:2,:])[[0,2],:])\n",
    "\n",
    "fig=plt.figure(figsize=(10,5))\n",
    "plt.errorbar(GT, alims[1,:], yerr=aerr, fmt='.')\n",
    "plt.plot(xx,yy_perc.T,'r-')\n",
    "plt.xlabel('Gross tonnage / 1e5')\n",
    "plt.ylabel('coefficients $a_i$')\n",
    "plt.grid(True)\n",
    "plt.show()"
   ]
  },
  {
   "cell_type": "code",
   "execution_count": null,
   "metadata": {},
   "outputs": [],
   "source": [
    "xx = np.linspace(min(GT),max(GT))\n",
    "yy_all = (pars['beta1'][:,np.newaxis].dot(xx[np.newaxis,:]) + pars['beta0'][:,np.newaxis])\n",
    "yy_perc = np.percentile(yy_all,[2.5,25,50,75,97.5],axis=0)\n",
    "\n",
    "alims = np.percentile(pars['b'],[2.5,50,97.5],axis=0)\n",
    "aerr = np.abs((alims-alims[1:2,:])[[0,2],:])\n",
    "\n",
    "fig=plt.figure(figsize=(10,5))\n",
    "plt.errorbar(GT, alims[1,:], yerr=aerr, fmt='.')\n",
    "plt.plot(xx,yy_perc.T,'r-')\n",
    "plt.xlabel('Gross tonnage / 1e5')\n",
    "plt.ylabel('coefficients $b_i$')\n",
    "plt.grid(True)\n",
    "plt.show()"
   ]
  },
  {
   "cell_type": "code",
   "execution_count": null,
   "metadata": {},
   "outputs": [],
   "source": []
  }
 ],
 "metadata": {
  "kernelspec": {
   "display_name": "Python 3",
   "language": "python",
   "name": "python3"
  },
  "language_info": {
   "codemirror_mode": {
    "name": "ipython",
    "version": 3
   },
   "file_extension": ".py",
   "mimetype": "text/x-python",
   "name": "python",
   "nbconvert_exporter": "python",
   "pygments_lexer": "ipython3",
   "version": "3.6.6"
  }
 },
 "nbformat": 4,
 "nbformat_minor": 2
}
